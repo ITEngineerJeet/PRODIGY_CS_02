{
  "nbformat": 4,
  "nbformat_minor": 0,
  "metadata": {
    "colab": {
      "provenance": []
    },
    "kernelspec": {
      "name": "python3",
      "display_name": "Python 3"
    },
    "language_info": {
      "name": "python"
    }
  },
  "cells": [
    {
      "cell_type": "code",
      "execution_count": 1,
      "metadata": {
        "id": "ztkJeHfYc2MX"
      },
      "outputs": [],
      "source": [
        "from PIL import Image"
      ]
    },
    {
      "cell_type": "code",
      "source": [
        "#Image Encryption Function\n",
        "def encrypt_image(input_image_path, output_image_path, key):\n",
        "    # Open the input image\n",
        "    image = Image.open(input_image_path)\n",
        "    width, height = image.size\n",
        "\n",
        "    # Convert image to RGB (if not already in that mode)\n",
        "    image = image.convert(\"RGB\")\n",
        "\n",
        "    # Encrypt each pixel\n",
        "    encrypted_pixels = []\n",
        "    for y in range(height):\n",
        "        row = []\n",
        "        for x in range(width):\n",
        "            r, g, b = image.getpixel((x, y))\n",
        "            # Example encryption: adding the key value to each pixel component\n",
        "            r = (r + key) % 256\n",
        "            g = (g + key) % 256\n",
        "            b = (b + key) % 256\n",
        "            row.append((r, g, b))\n",
        "        encrypted_pixels.append(row)\n",
        "\n",
        "    # Create a new image with encrypted pixels\n",
        "    encrypted_image = Image.new(\"RGB\", (width, height))\n",
        "    for y in range(height):\n",
        "        for x in range(width):\n",
        "            encrypted_image.putpixel((x, y), encrypted_pixels[y][x])\n",
        "\n",
        "    # Save encrypted image\n",
        "    encrypted_image.save(output_image_path)\n",
        "    print(f\"Image encrypted and saved as {output_image_path}\")"
      ],
      "metadata": {
        "id": "7_aR2qeNdNyZ"
      },
      "execution_count": 2,
      "outputs": []
    },
    {
      "cell_type": "code",
      "source": [
        "#Image Decryption Image\n",
        "def decrypt_image(input_image_path, output_image_path, key):\n",
        "    # Open the encrypted image\n",
        "    encrypted_image = Image.open(input_image_path)\n",
        "    width, height = encrypted_image.size\n",
        "\n",
        "    # Decrypt each pixel\n",
        "    decrypted_pixels = []\n",
        "    for y in range(height):\n",
        "        row = []\n",
        "        for x in range(width):\n",
        "            r, g, b = encrypted_image.getpixel((x, y))\n",
        "            # Example decryption: subtracting the key value from each pixel component\n",
        "            r = (r - key) % 256\n",
        "            g = (g - key) % 256\n",
        "            b = (b - key) % 256\n",
        "            row.append((r, g, b))\n",
        "        decrypted_pixels.append(row)\n",
        "\n",
        "    # Create a new image with decrypted pixels\n",
        "    decrypted_image = Image.new(\"RGB\", (width, height))\n",
        "    for y in range(height):\n",
        "        for x in range(width):\n",
        "            decrypted_image.putpixel((x, y), decrypted_pixels[y][x])\n",
        "\n",
        "    # Save decrypted image\n",
        "    decrypted_image.save(output_image_path)\n",
        "    print(f\"Image decrypted and saved as {output_image_path}\")"
      ],
      "metadata": {
        "id": "EAhc6eLydbzK"
      },
      "execution_count": 3,
      "outputs": []
    },
    {
      "cell_type": "code",
      "source": [
        "if __name__ == \"__main__\":\n",
        "    input_image = \"Input_Image.jpg\"\n",
        "    encrypted_image = \"Encrypted_Image.jpg\"\n",
        "    decrypted_image = \"Decrypted_Image.jpg\"\n",
        "    encryption_key = int(input(\"Enter the Encryption Key : \"))\n",
        "\n",
        "    print(\"1. Image Encryption\")\n",
        "    print(\"2. Image Decryption\")\n",
        "    print(\"3. Exit\")\n",
        "    ch=int(input(\"Enter Your Choice : \"))\n",
        "\n",
        "    if(ch==1):\n",
        "      encrypt_image(input_image, encrypted_image, encryption_key)\n",
        "    elif(ch==2):\n",
        "      decrypt_image(encrypted_image, decrypted_image, encryption_key)\n",
        "    else:\n",
        "      print(\"INVALID CHOICE\")"
      ],
      "metadata": {
        "colab": {
          "base_uri": "https://localhost:8080/"
        },
        "id": "_T_SuhcMdgjK",
        "outputId": "e797ca67-8c5b-4b35-f9e0-8aa4d6c9e4cc"
      },
      "execution_count": 5,
      "outputs": [
        {
          "output_type": "stream",
          "name": "stdout",
          "text": [
            "Enter the Encryption Key : 100\n",
            "1. Image Encryption\n",
            "2. Image Decryption\n",
            "3. Exit\n",
            "Enter Your Choice : 2\n",
            "Image decrypted and saved as Decrypted_Image.jpg\n"
          ]
        }
      ]
    }
  ]
}